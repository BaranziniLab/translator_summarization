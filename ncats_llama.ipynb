{
 "cells": [
  {
   "cell_type": "code",
   "execution_count": 11,
   "id": "6e6a1d67-b418-4488-bb27-fb0c45a4e00d",
   "metadata": {},
   "outputs": [],
   "source": [
    "import os\n",
    "import json\n",
    "import requests\n",
    "from dotenv import load_dotenv\n"
   ]
  },
  {
   "cell_type": "code",
   "execution_count": 21,
   "id": "4d77fdbd-47e4-4472-ac88-ab5a99fe1328",
   "metadata": {},
   "outputs": [
    {
     "data": {
      "text/plain": [
       "True"
      ]
     },
     "execution_count": 21,
     "metadata": {},
     "output_type": "execute_result"
    }
   ],
   "source": [
    "load_dotenv(os.path.join(os.path.expanduser('~'), '.ncats_llama.env'))\n"
   ]
  },
  {
   "cell_type": "code",
   "execution_count": 25,
   "id": "a1cb9e53-e52a-4c8f-a263-9c048fce859e",
   "metadata": {},
   "outputs": [],
   "source": [
    "URI = os.environ.get('LLAMA_URI')\n"
   ]
  },
  {
   "cell_type": "code",
   "execution_count": 26,
   "id": "6c197eb1-c702-4e3b-9da1-73aa96585b43",
   "metadata": {},
   "outputs": [
    {
     "name": "stdout",
     "output_type": "stream",
     "text": [
      "Here are two jokes for you:\n",
      "\n",
      "**Joke 1:**\n",
      "Why couldn't the bicycle stand up by itself?\n",
      "Because it was two-tired!\n",
      "\n",
      "**Joke 2:**\n",
      "What do you call a fake noodle?\n",
      "An impasta!\n",
      "\n",
      "I hope you found these jokes amusing!"
     ]
    }
   ],
   "source": [
    "\n",
    "def generate_with_llama(prompt):\n",
    "    api_key = os.environ.get('LLAMA_KEY')\n",
    "\n",
    "    headers = {\n",
    "        \"Authorization\": f\"Bearer {api_key}\",\n",
    "        \"Content-Type\": \"application/json\"\n",
    "    }\n",
    "\n",
    "    data = {\n",
    "        \"messages\": [\n",
    "            {\"role\": \"system\", \"content\": \"You are a helpful assistant.\"},\n",
    "            {\"role\": \"user\", \"content\": prompt}\n",
    "        ],\n",
    "        \"temperature\": 0.7,\n",
    "        \"max_tokens\": 256,\n",
    "        \"stream\": True\n",
    "    }\n",
    "\n",
    "    with requests.post(URI, headers=headers, json=data, stream=True) as response:\n",
    "        if response.status_code == 200:\n",
    "            for line in response.iter_lines():\n",
    "                if line:\n",
    "                    try:\n",
    "                        json_str = line.decode('utf-8')\n",
    "                        if json_str.startswith('data: '):\n",
    "                            json_str = json_str[len('data: '):]\n",
    "                        chunk = json.loads(json_str)\n",
    "\n",
    "                        choices = chunk.get('choices', [])\n",
    "                        if choices:\n",
    "                            delta = choices[0].get('delta', {})\n",
    "                            content = delta.get('content', '')\n",
    "                            if content:\n",
    "                                yield content\n",
    "                    except (json.JSONDecodeError, IndexError, KeyError):\n",
    "                        continue\n",
    "        else:\n",
    "            raise Exception(f\"Request failed with status code {response.status_code}: {response.text}\")\n",
    "\n",
    "\n",
    "for content in generate_with_llama(\"Tell me two joke.\"):\n",
    "    print(content, end='', flush=True)"
   ]
  },
  {
   "cell_type": "code",
   "execution_count": null,
   "id": "a4edf9f5-dfc5-4a97-8628-e7f1d0cdce41",
   "metadata": {},
   "outputs": [],
   "source": []
  }
 ],
 "metadata": {
  "kernelspec": {
   "display_name": "Python 3 (ipykernel)",
   "language": "python",
   "name": "python3"
  },
  "language_info": {
   "codemirror_mode": {
    "name": "ipython",
    "version": 3
   },
   "file_extension": ".py",
   "mimetype": "text/x-python",
   "name": "python",
   "nbconvert_exporter": "python",
   "pygments_lexer": "ipython3",
   "version": "3.10.9"
  }
 },
 "nbformat": 4,
 "nbformat_minor": 5
}
