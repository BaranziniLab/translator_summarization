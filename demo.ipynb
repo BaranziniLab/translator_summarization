{
 "cells": [
  {
   "cell_type": "code",
   "execution_count": 1,
   "id": "fd414d81-b660-463c-804c-6ed4c369ed21",
   "metadata": {},
   "outputs": [],
   "source": [
    "import json\n",
    "import requests"
   ]
  },
  {
   "cell_type": "markdown",
   "id": "20c7d8ef-b754-47fa-aa66-4afeedb510b6",
   "metadata": {},
   "source": [
    "## Load data from Translator UI"
   ]
  },
  {
   "cell_type": "code",
   "execution_count": 12,
   "id": "a9a55593-056f-4d98-8926-ba98de6be07d",
   "metadata": {},
   "outputs": [],
   "source": [
    "'''\n",
    "Note: This data has the user query and the answers corresponding to the query along with the biological context for those answers.\n",
    "This will be used to create the summary.\n",
    "'''\n",
    "\n",
    "data_path = 'sample_data/mvp1-2ad7c20f-c252-4c15-bdf2-f4e4b5e7b50c.json'\n",
    "data_path = 'sample_data/mvp2-c4b08dec-2c29-40c2-9e0a-4ffdf5ffe0cc.json'\n",
    "\n",
    "with open(data_path, 'r') as f:\n",
    "    data = json.load(f)\n",
    "\n"
   ]
  },
  {
   "cell_type": "code",
   "execution_count": 13,
   "id": "3eb73ef3-37c1-495d-90d6-f21ead52165d",
   "metadata": {},
   "outputs": [
    {
     "name": "stdout",
     "output_type": "stream",
     "text": [
      "Input query : what chemicals may decrease the activity of ADNP?\n",
      "\n",
      "Total number of returned results = 1373\n"
     ]
    }
   ],
   "source": [
    "print(f'Input query : {data[\"query\"]}')\n",
    "print()\n",
    "print(f\"Total number of returned results = {len(data['results'])}\")"
   ]
  },
  {
   "cell_type": "code",
   "execution_count": 14,
   "id": "1f4f92a1-1ecf-4f0b-956c-84f90b8ae51e",
   "metadata": {},
   "outputs": [
    {
     "name": "stdout",
     "output_type": "stream",
     "text": [
      "[\n",
      "    {\n",
      "        \"name\": \"nitrate\",\n",
      "        \"paths\": [\n",
      "            \"nitrate-[causes decreased activity or abundance of]-GSK3B-[causes increased activity or abundance of]-ADNP\"\n",
      "        ]\n",
      "    },\n",
      "    {\n",
      "        \"name\": \"HC-Toxin\",\n",
      "        \"paths\": [\n",
      "            \"HC-Toxin-[causes increased expression of]-IGFBP3-[has decreased activity or abundance caused by]-ADNP\"\n",
      "        ]\n",
      "    }\n",
      "]\n"
     ]
    }
   ],
   "source": [
    "print(json.dumps(data[\"results\"][0:2], indent=4))"
   ]
  },
  {
   "cell_type": "markdown",
   "id": "e3cc9103-58ee-42e7-b069-0bc03e0645f3",
   "metadata": {},
   "source": [
    "## API endpoint"
   ]
  },
  {
   "cell_type": "code",
   "execution_count": 15,
   "id": "31610a76-0398-4341-a6fd-01f463162460",
   "metadata": {},
   "outputs": [],
   "source": [
    "\n",
    "api_endpoint = \"https://ncats-llm-summarization.onrender.com/summary\"\n",
    "# api_endpoint = \"https://biosummary.pythonanywhere.com/summary\"\n",
    "# api_endpoint = \"http://127.0.0.1:5000/summary\"\n"
   ]
  },
  {
   "cell_type": "markdown",
   "id": "58c692de-0b22-4753-914a-a59bb68e827e",
   "metadata": {},
   "source": [
    "## Calling API"
   ]
  },
  {
   "cell_type": "code",
   "execution_count": 16,
   "id": "2420b91f-af7a-4fb3-b167-88195bac9b69",
   "metadata": {},
   "outputs": [
    {
     "name": "stdout",
     "output_type": "stream",
     "text": [
      "The query \"what chemicals may decrease the activity of ADNP?\" has yielded a comprehensive list of chemicals that may potentially downregulate the activity of ADNP. ADNP, or Activity-Dependent Neuroprotective Protein, plays a crucial role in neuroprotection and synaptic plasticity. The regulation of ADNP activity is complex and involves multiple signaling pathways.\n",
      "\n",
      "Several chemicals have been identified as potential inhibitors of ADNP activity. These include nitrate, HC-Toxin, linoleic acid, ethanol, carvedilol, OLOMOUCINE, L-methionine, FUCOSTEROL, melphalan, albumin human, USP 45 MG/ML Injectable Solution, budesonide, alglucosidase alfa, ABT-751, Lunasine, CID 139291139, ANETHOLE, dimethyl sulfoxide, dibucaine, sulfate, retinol, NGX-267, OSI-027, doxycycline, oleuropein, galangin, apomorphine, GINKOLIDE B, Serelaxin, mometasone, S-NITROSOGLUTATHIONE, alsterpaullone, AZD8186, XANTHOHUMOL, cyproheptadine, nitrogen, Immune Sera, silmitasertib, BQ123, PURVALANOLA, ETHYLENEDIAMINE, Enzyme Inhibitors, DEBROMOHYMENIALDISINE, diazoxide, mithramycin, colecalciferol, QUINOLINIC ACID, perfluorododecanoic acid, bergapten, Panax quinquefolius whole extract, TERAMEPROCOL, entinostat, 5-(5-(tert-butyl)-2,4-dihydroxyphenyl)-N-ethyl-4-(4-(morpholinomethyl)phenyl)isoxazole-3-carboxamide, indole-3-carbinol, cholesterol, ammonia, eptotermin alfa, Recombinant Transforming Growth Factor-Beta 1, naringenin, blarcamesine, rituximab, NARCICLASINE, fulvestrant, tretinoin, clomiphene, Antiviral Agents, Vitamin E, and 6-(4-hydroxy-6-methoxy-7-methyl-3-oxo-1H-isobenzofuran-5-yl)-4-methyl-4-hexenoic acid 2-(4-morpholinyl)ethyl ester.\n",
      "\n",
      "These chemicals may decrease ADNP activity through various mechanisms, including the inhibition of upstream regulators such as GSK3B and MAPT, or the activation of downstream effectors such as multicatalytic endopeptidase complex. The specific mechanisms of action for each chemical may vary, and further research is needed to fully understand their effects on ADNP activity.\n",
      "\n",
      "In conclusion, the chemicals listed above may have potential therapeutic applications in the treatment of diseases related to ADNP dysregulation, such as neurodegenerative disorders and cancer. However, further research is needed to confirm their efficacy and safety in humans.\n",
      "\n"
     ]
    }
   ],
   "source": [
    "def stream_response(url, data):\n",
    "    headers = {'Content-Type': 'application/json'}\n",
    "    response = requests.post(url, json=data, headers=headers, stream=True)\n",
    "    \n",
    "    if response.status_code == 200:\n",
    "        for chunk in response.iter_content(chunk_size=1, decode_unicode=True):\n",
    "            if chunk:\n",
    "                print(chunk, end='', flush=True)\n",
    "    else:\n",
    "        print(f\"Error: {response.status_code}\")\n",
    "        print(response.text)\n",
    "\n",
    "\n",
    "\n",
    "stream_response(api_endpoint, data)\n"
   ]
  },
  {
   "cell_type": "code",
   "execution_count": null,
   "id": "8c8e4de6-685a-48e3-add1-3808afdba5d7",
   "metadata": {},
   "outputs": [],
   "source": []
  }
 ],
 "metadata": {
  "kernelspec": {
   "display_name": "Python 3 (ipykernel)",
   "language": "python",
   "name": "python3"
  },
  "language_info": {
   "codemirror_mode": {
    "name": "ipython",
    "version": 3
   },
   "file_extension": ".py",
   "mimetype": "text/x-python",
   "name": "python",
   "nbconvert_exporter": "python",
   "pygments_lexer": "ipython3",
   "version": "3.10.9"
  }
 },
 "nbformat": 4,
 "nbformat_minor": 5
}
